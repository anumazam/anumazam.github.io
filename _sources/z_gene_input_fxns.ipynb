{
 "cells": [
  {
   "cell_type": "markdown",
   "metadata": {},
   "source": [
    "# Resources for CMBSGR6300\n",
    "\n",
    "**Logic functions as approximations for the input function of a gene**\n",
    "\n",
    "How similar are the dynamics of the accumulation of protein Y in X -> Y when we use:\n",
    "\n",
    "1. f(X) = X/(K+X) (Michaelis-Menten)\n",
    "2. f(x) = X^2/(K^2+X^2) (Hill cooperativity n = 2)\n",
    "3. a step function\n",
    "\n",
    "as the input function for:\n",
    "\n",
    "dY/dt = f(X*) - aY"
   ]
  },
  {
   "cell_type": "code",
   "execution_count": null,
   "metadata": {},
   "outputs": [],
   "source": [
    "import numpy as np\n",
    "from scipy.integrate import odeint\n",
    "import matplotlib.pyplot as plt\n",
    "import matplotlib.patches as mpatches\n",
    "\n",
    "\n",
    "X = np.linspace(.001,1)\n",
    "\n",
    "# define constants\n",
    "\n",
    "a = 1 # removal rate\n",
    "K = 0.33 # dissociation constant\n",
    "n = 2 # hill coefficient"
   ]
  },
  {
   "cell_type": "code",
   "execution_count": null,
   "metadata": {},
   "outputs": [],
   "source": [
    "# INPUT FUNCTION DEFINITIONS\n",
    "\n",
    "# MM input function\n",
    "def MM_fxn(X):\n",
    "    f_X = X / (K + X)\n",
    "    return f_X\n",
    "\n",
    "# hill input function\n",
    "def hill_fxn(X):\n",
    "    f_X = X**n / (K**n + X**n)\n",
    "    return f_X\n",
    "\n",
    "# logic input function\n",
    "def logic_fxn(X):\n",
    "    f_X = []\n",
    "    for value in X:\n",
    "        if value >= K:\n",
    "            f_X.append(1)\n",
    "        if value < K:\n",
    "            f_X.append(0)\n",
    "    return f_X\n",
    "\n",
    "# define input function\n",
    "input1 = MM_fxn(X)\n",
    "input2 = hill_fxn(X)\n",
    "input3 = logic_fxn(X)"
   ]
  },
  {
   "cell_type": "code",
   "execution_count": null,
   "metadata": {},
   "outputs": [],
   "source": [
    "# plot input fxns\n",
    "plt.rcParams.update({'font.size': 18})\n",
    "\n",
    "fig1 = plt.figure(figsize=(6,6))\n",
    "plt.title('input function')\n",
    "plt.plot(X/K, input1, 'r.')\n",
    "plt.plot(X/K, input2, 'g')\n",
    "plt.plot(X/K, input3, 'b--')\n",
    "plt.xlabel('X/K')\n",
    "plt.ylabel('f(X)')\n",
    "\n",
    "# legend\n",
    "plt.legend(labels=['MM', 'Hill', 'logic'], loc = 'lower right')"
   ]
  },
  {
   "cell_type": "code",
   "execution_count": null,
   "metadata": {},
   "outputs": [],
   "source": [
    "# function returning dy/dt\n",
    "def y_activation_1(Y, t):\n",
    "    x_star = (1/a)*(1-np.exp(-a*t))\n",
    "    dy_dt_1 = MM_fxn(x_star) - a*Y\n",
    "    return dy_dt_1\n",
    "\n",
    "def y_activation_2(Y, t):\n",
    "    x_star = (1/a)*(1-np.exp(-a*t))\n",
    "    dy_dt_2 = hill_fxn(x_star) - a*Y\n",
    "    return dy_dt_2\n",
    "\n",
    "x_star_array = []\n",
    "def y_activation_3(Y, t):\n",
    "    x_star = (1/a)*(1-np.exp(-a*t))\n",
    "    if x_star >= K:\n",
    "        x_star = 1\n",
    "    if x_star < K:\n",
    "        x_star = 0\n",
    "    dy_dt_3 = x_star - a*Y\n",
    "    return dy_dt_3"
   ]
  },
  {
   "cell_type": "code",
   "execution_count": null,
   "metadata": {},
   "outputs": [],
   "source": [
    "# initial condition\n",
    "y0 = np.zeros(50)\n",
    "\n",
    "# time points\n",
    "t = np.linspace(0,5, 100)\n",
    "\n",
    "# solve ODE\n",
    "Y1 = odeint(y_activation_1, y0, t)\n",
    "Y2 = odeint(y_activation_2, y0, t)\n",
    "Y3 = odeint(y_activation_3, y0, t)\n",
    "\n",
    "# plot results\n",
    "fig2 = plt.figure(figsize = (6,6))\n",
    "plt.title('Y')\n",
    "plt.plot(a*t, (1/a)*(1-np.exp(-a*t)), 'k', marker = 'X', label = 'X*')\n",
    "plt.plot(a*t, Y1 / Y1[-1] , 'r.', label = 'MM')\n",
    "plt.plot(a*t, Y2 / Y2[-1] , 'g', label = 'Hill')\n",
    "plt.plot(a*t, Y3 / Y3[-1] , 'b--', label = 'logic')\n",
    "plt.xlabel('a*t')\n",
    "plt.ylabel('fractional Y saturation')\n",
    "plt.ylim(-.05, 1.05)\n",
    "\n",
    "# legend\n",
    "X = mpatches.Patch(color = 'k', label = 'X*')\n",
    "MM = mpatches.Patch(color = 'r', label = 'MM')\n",
    "Hill = mpatches.Patch(color = 'g', label = 'Hill')\n",
    "logic = mpatches.Patch(color = 'b', label = 'logic')\n",
    "\n",
    "plt.legend(handles=[X, MM, Hill, logic], loc = 'lower right')"
   ]
  },
  {
   "cell_type": "code",
   "execution_count": null,
   "metadata": {},
   "outputs": [],
   "source": []
  }
 ],
 "metadata": {
  "kernelspec": {
   "display_name": "Python 3",
   "language": "python",
   "name": "python3"
  },
  "language_info": {
   "codemirror_mode": {
    "name": "ipython",
    "version": 3
   },
   "file_extension": ".py",
   "mimetype": "text/x-python",
   "name": "python",
   "nbconvert_exporter": "python",
   "pygments_lexer": "ipython3",
   "version": "3.8.3"
  }
 },
 "nbformat": 4,
 "nbformat_minor": 4
}
